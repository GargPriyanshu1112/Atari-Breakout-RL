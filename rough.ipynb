{
 "cells": [
  {
   "cell_type": "code",
   "execution_count": null,
   "metadata": {},
   "outputs": [],
   "source": [
    "# Install necesssary libraries\n",
    "%pip install gym\n",
    "%pip install gym[atari]\n",
    "%pip install gym[accept-rom-license]\n",
    "%pip install keyboard"
   ]
  },
  {
   "cell_type": "code",
   "execution_count": 2,
   "metadata": {},
   "outputs": [],
   "source": [
    "# Import dependencies\n",
    "import gym\n",
    "import keyboard\n",
    "import matplotlib.pyplot as plt"
   ]
  },
  {
   "cell_type": "code",
   "execution_count": 3,
   "metadata": {},
   "outputs": [],
   "source": [
    "# Initialize and reset the Breakout\n",
    "env =  gym.make(\"ALE/Breakout-v5\",\n",
    "                full_action_space=False,\n",
    "                repeat_action_probability=0.1,\n",
    "                obs_type='rgb')"
   ]
  },
  {
   "cell_type": "code",
   "execution_count": 4,
   "metadata": {},
   "outputs": [
    {
     "name": "stdout",
     "output_type": "stream",
     "text": [
      "(210, 160, 3)\n"
     ]
    },
    {
     "data": {
      "image/png": "[encoded data removed]",
      "text/plain": [
       "<Figure size 640x480 with 1 Axes>"
      ]
     },
     "metadata": {},
     "output_type": "display_data"
    }
   ],
   "source": [
    "start_state, info = env.reset()\n",
    "\n",
    "print(start_state.shape)\n",
    "plt.imshow(start_state)\n",
    "plt.axis(False);"
   ]
  },
  {
   "cell_type": "code",
   "execution_count": 5,
   "metadata": {},
   "outputs": [
    {
     "name": "stdout",
     "output_type": "stream",
     "text": [
      "Number of possible actions: 4\n",
      "Action meanings: ['NOOP', 'FIRE', 'RIGHT', 'LEFT']\n"
     ]
    }
   ],
   "source": [
    "print(f\"Number of possible actions: {env.action_space.n}\")\n",
    "print(f\"Action meanings: {env.unwrapped.get_action_meanings()}\")"
   ]
  },
  {
   "cell_type": "code",
   "execution_count": 6,
   "metadata": {},
   "outputs": [
    {
     "name": "stderr",
     "output_type": "stream",
     "text": [
      "c:\\Users\\lenovo\\AppData\\Local\\Programs\\Python\\Python311\\Lib\\site-packages\\gym\\utils\\passive_env_checker.py:233: DeprecationWarning: `np.bool8` is a deprecated alias for `np.bool_`.  (Deprecated NumPy 1.24)\n",
      "  if not isinstance(terminated, (bool, np.bool8)):\n"
     ]
    },
    {
     "data": {
      "text/plain": [
       "(210, 160, 3)"
      ]
     },
     "execution_count": 6,
     "metadata": {},
     "output_type": "execute_result"
    }
   ],
   "source": [
    "obs, reward, terminated, truncated, info = env.step(3)\n",
    "obs.shape"
   ]
  },
  {
   "cell_type": "code",
   "execution_count": 8,
   "metadata": {},
   "outputs": [
    {
     "name": "stderr",
     "output_type": "stream",
     "text": [
      "WARNING:tensorflow:From c:\\Users\\lenovo\\AppData\\Local\\Programs\\Python\\Python311\\Lib\\site-packages\\keras\\src\\losses.py:2976: The name tf.losses.sparse_softmax_cross_entropy is deprecated. Please use tf.compat.v1.losses.sparse_softmax_cross_entropy instead.\n",
      "\n"
     ]
    },
    {
     "name": "stdout",
     "output_type": "stream",
     "text": [
      "(210, 160, 3)\n"
     ]
    },
    {
     "data": {
      "image/png": "[encoded data removed]",
      "text/plain": [
       "<Figure size 640x480 with 1 Axes>"
      ]
     },
     "metadata": {},
     "output_type": "display_data"
    }
   ],
   "source": [
    "import tensorflow as tf\n",
    "\n",
    "start_state, info = env.reset()\n",
    "\n",
    "print(start_state.shape)\n",
    "plt.imshow(start_state)\n",
    "plt.axis(False);"
   ]
  },
  {
   "cell_type": "markdown",
   "metadata": {},
   "source": [
    "### Environment Exploration"
   ]
  },
  {
   "cell_type": "code",
   "execution_count": 1,
   "metadata": {},
   "outputs": [
    {
     "ename": "NameError",
     "evalue": "name 'gym' is not defined",
     "output_type": "error",
     "traceback": [
      "\u001b[1;31m---------------------------------------------------------------------------\u001b[0m",
      "\u001b[1;31mNameError\u001b[0m                                 Traceback (most recent call last)",
      "Cell \u001b[1;32mIn[1], line 2\u001b[0m\n\u001b[0;32m      1\u001b[0m \u001b[38;5;66;03m# Initialize and reset the Breakout\u001b[39;00m\n\u001b[1;32m----> 2\u001b[0m env \u001b[38;5;241m=\u001b[39m  \u001b[43mgym\u001b[49m\u001b[38;5;241m.\u001b[39mmake(\u001b[38;5;124m\"\u001b[39m\u001b[38;5;124mALE/Breakout-v5\u001b[39m\u001b[38;5;124m\"\u001b[39m,\n\u001b[0;32m      3\u001b[0m                 full_action_space\u001b[38;5;241m=\u001b[39m\u001b[38;5;28;01mFalse\u001b[39;00m,\n\u001b[0;32m      4\u001b[0m                 repeat_action_probability\u001b[38;5;241m=\u001b[39m\u001b[38;5;241m0.1\u001b[39m,\n\u001b[0;32m      5\u001b[0m                 obs_type\u001b[38;5;241m=\u001b[39m\u001b[38;5;124m'\u001b[39m\u001b[38;5;124mrgb\u001b[39m\u001b[38;5;124m'\u001b[39m)\n\u001b[0;32m      7\u001b[0m env\u001b[38;5;241m.\u001b[39mreset();\n",
      "\u001b[1;31mNameError\u001b[0m: name 'gym' is not defined"
     ]
    }
   ],
   "source": [
    "# Initialize and reset the Breakout\n",
    "env =  gym.make(\"ALE/Breakout-v5\",\n",
    "                full_action_space=False,\n",
    "                repeat_action_probability=0.1,\n",
    "                obs_type='rgb')\n",
    "\n",
    "env.reset();"
   ]
  },
  {
   "cell_type": "code",
   "execution_count": 23,
   "metadata": {},
   "outputs": [
    {
     "name": "stdout",
     "output_type": "stream",
     "text": [
      "Number of possible actions: 4\n",
      "Action meanings: ['NOOP', 'FIRE', 'RIGHT', 'LEFT']\n"
     ]
    }
   ],
   "source": [
    "print(f\"Number of possible actions: {env.action_space.n}\")\n",
    "print(f\"Action meanings: {env.unwrapped.get_action_meanings()}\")"
   ]
  },
  {
   "cell_type": "code",
   "execution_count": 24,
   "metadata": {},
   "outputs": [
    {
     "name": "stderr",
     "output_type": "stream",
     "text": [
      "c:\\Users\\lenovo\\AppData\\Local\\Programs\\Python\\Python311\\Lib\\site-packages\\gym\\utils\\passive_env_checker.py:233: DeprecationWarning: `np.bool8` is a deprecated alias for `np.bool_`.  (Deprecated NumPy 1.24)\n",
      "  if not isinstance(terminated, (bool, np.bool8)):\n"
     ]
    },
    {
     "data": {
      "image/png": "[encoded data removed]",
      "text/plain": [
       "<Figure size 640x480 with 1 Axes>"
      ]
     },
     "metadata": {},
     "output_type": "display_data"
    }
   ],
   "source": [
    "# Get start state\n",
    "obs, reward, terminated, truncated, info = env.step(1)\n",
    "plt.imshow(obs)\n",
    "plt.axis(False);"
   ]
  },
  {
   "cell_type": "code",
   "execution_count": null,
   "metadata": {},
   "outputs": [],
   "source": [
    "# # Play game\n",
    "\n",
    "# keyToAction = {\n",
    "#     'd': 2, # move right\n",
    "#     'a': 3, # move left\n",
    "#     'w': 0, # no action\n",
    "#     'r': 1, # start game after losing a life, no effect during the game\n",
    "# }\n",
    "\n",
    "# while True:\n",
    "#     inp = keyboard.read_event()    \n",
    "#     if keyToAction.get(inp.name, -1) == -1:\n",
    "#         env.close()\n",
    "        \n",
    "#     obs, reward, terminated, truncated, info = env.step(keyToAction[inp.name])\n",
    "#     env.render()"
   ]
  },
  {
   "cell_type": "code",
   "execution_count": null,
   "metadata": {},
   "outputs": [],
   "source": []
  },
  {
   "cell_type": "code",
   "execution_count": 7,
   "metadata": {},
   "outputs": [],
   "source": [
    "# Initialize the Breakout environment\n",
    "env = gym.make(\"ALE/Breakout-v5\",\n",
    "                full_action_space=False,\n",
    "                repeat_action_probability=0.1,\n",
    "                obs_type='rgb')"
   ]
  },
  {
   "cell_type": "code",
   "execution_count": 15,
   "metadata": {},
   "outputs": [
    {
     "data": {
      "text/plain": [
       "(210, 160, 3)"
      ]
     },
     "execution_count": 15,
     "metadata": {},
     "output_type": "execute_result"
    }
   ],
   "source": [
    "start_state, info = env.reset()\n",
    "start_state.shape\n",
    "\n",
    "# obs, reward, terminated, truncated, info = env.step()"
   ]
  },
  {
   "cell_type": "code",
   "execution_count": 11,
   "metadata": {},
   "outputs": [
    {
     "data": {
      "text/plain": [
       "(210, 160, 3)"
      ]
     },
     "execution_count": 11,
     "metadata": {},
     "output_type": "execute_result"
    }
   ],
   "source": [
    "start_state.shape"
   ]
  },
  {
   "cell_type": "code",
   "execution_count": 9,
   "metadata": {},
   "outputs": [
    {
     "name": "stdout",
     "output_type": "stream",
     "text": [
      "(210, 160, 3)\n"
     ]
    },
    {
     "ename": "AttributeError",
     "evalue": "'ImageTransformer' object has no attribute 'image'",
     "output_type": "error",
     "traceback": [
      "\u001b[1;31m---------------------------------------------------------------------------\u001b[0m",
      "\u001b[1;31mAttributeError\u001b[0m                            Traceback (most recent call last)",
      "Cell \u001b[1;32mIn[9], line 27\u001b[0m\n\u001b[0;32m     23\u001b[0m \u001b[38;5;66;03m# print(start_state.shape)\u001b[39;00m\n\u001b[0;32m     24\u001b[0m \u001b[38;5;66;03m# print(info)\u001b[39;00m\n\u001b[0;32m     26\u001b[0m tf \u001b[38;5;241m=\u001b[39m ImageTransformer()\n\u001b[1;32m---> 27\u001b[0m \u001b[43mtf\u001b[49m\u001b[38;5;241;43m.\u001b[39;49m\u001b[43mtransform\u001b[49m\u001b[43m(\u001b[49m\u001b[43mstart_state\u001b[49m\u001b[43m)\u001b[49m\n",
      "Cell \u001b[1;32mIn[9], line 9\u001b[0m, in \u001b[0;36mImageTransformer.transform\u001b[1;34m(self, img)\u001b[0m\n\u001b[0;32m      7\u001b[0m \u001b[38;5;28;01mdef\u001b[39;00m \u001b[38;5;21mtransform\u001b[39m(\u001b[38;5;28mself\u001b[39m, img):\n\u001b[0;32m      8\u001b[0m     \u001b[38;5;28mprint\u001b[39m(img\u001b[38;5;241m.\u001b[39mshape)\n\u001b[1;32m----> 9\u001b[0m     img \u001b[38;5;241m=\u001b[39m \u001b[43mtf\u001b[49m\u001b[38;5;241;43m.\u001b[39;49m\u001b[43mimage\u001b[49m\u001b[38;5;241m.\u001b[39mrgb_to_grayscale(img)\n\u001b[0;32m     10\u001b[0m     \u001b[38;5;28mprint\u001b[39m(img\u001b[38;5;241m.\u001b[39mshape)\n",
      "\u001b[1;31mAttributeError\u001b[0m: 'ImageTransformer' object has no attribute 'image'"
     ]
    }
   ],
   "source": [
    "# Import dependencies\n",
    "import gym\n",
    "import tensorflow as tf\n",
    "\n",
    "\n",
    "class ImageTransformer:\n",
    "    def transform(self, img):\n",
    "        print(img.shape)\n",
    "        img = tf.image.rgb_to_grayscale(img)\n",
    "        print(img.shape)\n",
    "\n",
    "\n",
    "if __name__ == \"__main__\":\n",
    "    # Initialize the Breakout environment\n",
    "    env = gym.make(\n",
    "        id=\"ALE/Breakout-v5\",\n",
    "        full_action_space=False,\n",
    "        repeat_action_probability=0.1,\n",
    "        obs_type=\"rgb\",\n",
    "    )\n",
    "    start_state, info = env.reset()\n",
    "\n",
    "    # print(start_state.shape)\n",
    "    # print(info)\n",
    "\n",
    "    tf = ImageTransformer()\n",
    "    tf.transform(start_state)\n"
   ]
  },
  {
   "cell_type": "code",
   "execution_count": 7,
   "metadata": {},
   "outputs": [],
   "source": [
    "import tensorflow as tf"
   ]
  },
  {
   "cell_type": "code",
   "execution_count": 8,
   "metadata": {},
   "outputs": [
    {
     "data": {
      "text/plain": [
       "<tf.Tensor: shape=(1, 1, 1), dtype=float32, numpy=array([[[1.8149]]], dtype=float32)>"
      ]
     },
     "execution_count": 8,
     "metadata": {},
     "output_type": "execute_result"
    }
   ],
   "source": [
    "original = tf.constant([[[1.0, 2.0, 3.0]]])\n",
    "converted = tf.image.rgb_to_grayscale(original)\n",
    "converted\n"
   ]
  },
  {
   "cell_type": "code",
   "execution_count": 9,
   "metadata": {},
   "outputs": [
    {
     "name": "stdout",
     "output_type": "stream",
     "text": [
      "(210, 160, 3)\n"
     ]
    },
    {
     "ename": "AttributeError",
     "evalue": "'ImageTransformer' object has no attribute 'image'",
     "output_type": "error",
     "traceback": [
      "\u001b[1;31m---------------------------------------------------------------------------\u001b[0m",
      "\u001b[1;31mAttributeError\u001b[0m                            Traceback (most recent call last)",
      "Cell \u001b[1;32mIn[9], line 26\u001b[0m\n\u001b[0;32m     22\u001b[0m \u001b[38;5;66;03m# print(start_state.shape)\u001b[39;00m\n\u001b[0;32m     23\u001b[0m \u001b[38;5;66;03m# print(info)\u001b[39;00m\n\u001b[0;32m     25\u001b[0m tf \u001b[38;5;241m=\u001b[39m ImageTransformer()\n\u001b[1;32m---> 26\u001b[0m \u001b[43mtf\u001b[49m\u001b[38;5;241;43m.\u001b[39;49m\u001b[43mtransform\u001b[49m\u001b[43m(\u001b[49m\u001b[43mstart_state\u001b[49m\u001b[43m)\u001b[49m\n",
      "Cell \u001b[1;32mIn[9], line 9\u001b[0m, in \u001b[0;36mImageTransformer.transform\u001b[1;34m(self, img)\u001b[0m\n\u001b[0;32m      7\u001b[0m \u001b[38;5;28;01mdef\u001b[39;00m \u001b[38;5;21mtransform\u001b[39m(\u001b[38;5;28mself\u001b[39m, img):\n\u001b[0;32m      8\u001b[0m     \u001b[38;5;28mprint\u001b[39m(img\u001b[38;5;241m.\u001b[39mshape)\n\u001b[1;32m----> 9\u001b[0m     img \u001b[38;5;241m=\u001b[39m \u001b[43mtf\u001b[49m\u001b[38;5;241;43m.\u001b[39;49m\u001b[43mimage\u001b[49m\u001b[38;5;241m.\u001b[39mrgb_to_grayscale(tf\u001b[38;5;241m.\u001b[39mexpand_dims(img, axis\u001b[38;5;241m=\u001b[39m\u001b[38;5;241m0\u001b[39m))\n\u001b[0;32m     10\u001b[0m     \u001b[38;5;28mprint\u001b[39m(img\u001b[38;5;241m.\u001b[39mshape)\n",
      "\u001b[1;31mAttributeError\u001b[0m: 'ImageTransformer' object has no attribute 'image'"
     ]
    }
   ],
   "source": [
    "# Import dependencies\n",
    "import gym\n",
    "import tensorflow as tf\n",
    "\n",
    "\n",
    "class ImageTransformer:\n",
    "    def transform(self, img):\n",
    "        print(img.shape)\n",
    "        img = tf.image.rgb_to_grayscale(tf.expand_dims(img, axis=0))\n",
    "        print(img.shape)\n",
    "\n",
    "\n",
    "\n",
    "# Initialize the Breakout environment\n",
    "env = gym.make(\n",
    "    id=\"ALE/Breakout-v5\",\n",
    "    full_action_space=False,\n",
    "    repeat_action_probability=0.1,\n",
    ")\n",
    "start_state, info = env.reset()\n",
    "\n",
    "# print(start_state.shape)\n",
    "# print(info)\n",
    "\n",
    "tf = ImageTransformer()\n",
    "tf.transform(start_state)\n"
   ]
  },
  {
   "cell_type": "code",
   "execution_count": null,
   "metadata": {},
   "outputs": [],
   "source": []
  },
  {
   "cell_type": "code",
   "execution_count": 16,
   "metadata": {},
   "outputs": [
    {
     "name": "stdout",
     "output_type": "stream",
     "text": [
      "2.15.0\n",
      "shape before: (210, 160, 3)\n"
     ]
    },
    {
     "data": {
      "image/png": "[encoded data removed]",
      "text/plain": [
       "<Figure size 640x480 with 2 Axes>"
      ]
     },
     "metadata": {},
     "output_type": "display_data"
    },
    {
     "name": "stdout",
     "output_type": "stream",
     "text": [
      "shape after: (84, 84, 1)\n",
      "tf.Tensor(\n",
      "[[[142]\n",
      "  [142]\n",
      "  [142]\n",
      "  ...\n",
      "  [142]\n",
      "  [142]\n",
      "  [142]]\n",
      "\n",
      " [[142]\n",
      "  [142]\n",
      "  [142]\n",
      "  ...\n",
      "  [142]\n",
      "  [142]\n",
      "  [142]]\n",
      "\n",
      " [[142]\n",
      "  [142]\n",
      "  [142]\n",
      "  ...\n",
      "  [142]\n",
      "  [142]\n",
      "  [142]]\n",
      "\n",
      " ...\n",
      "\n",
      " [[127]\n",
      "  [127]\n",
      "  [127]\n",
      "  ...\n",
      "  [110]\n",
      "  [110]\n",
      "  [110]]\n",
      "\n",
      " [[127]\n",
      "  [127]\n",
      "  [127]\n",
      "  ...\n",
      "  [110]\n",
      "  [110]\n",
      "  [110]]\n",
      "\n",
      " [[127]\n",
      "  [127]\n",
      "  [127]\n",
      "  ...\n",
      "  [110]\n",
      "  [110]\n",
      "  [110]]], shape=(84, 84, 1), dtype=uint8)\n"
     ]
    }
   ],
   "source": [
    "# Import dependencies\n",
    "import gym\n",
    "import tensorflow as tf\n",
    "\n",
    "import matplotlib.pyplot as plt\n",
    "\n",
    "\n",
    "class ImageTransformer:\n",
    "    def transform(self, img):\n",
    "        plt.subplot(1, 2, 1)\n",
    "        plt.imshow(img)\n",
    "        print(f\"shape before: {img.shape}\")\n",
    "        img = tf.image.rgb_to_grayscale(img)\n",
    "        img = tf.image.crop_to_bounding_box(img, 35,0,160,160)\n",
    "        img = tf.image.resize(\n",
    "            img,\n",
    "            size=(84, 84),\n",
    "            method=tf.image.ResizeMethod.NEAREST_NEIGHBOR,\n",
    "        )\n",
    "        img = img/255.\n",
    "        plt.subplot(1, 2, 2)\n",
    "        plt.imshow(img)\n",
    "        plt.show()\n",
    "        print(f\"shape after: {img.shape}\")\n",
    "        print(img)\n",
    "\n",
    "\n",
    "if __name__ == \"__main__\":\n",
    "    print(tf.__version__)\n",
    "    # Initialize the Breakout environment\n",
    "    env = gym.make(\n",
    "        id=\"ALE/Breakout-v5\",\n",
    "        full_action_space=False,\n",
    "        repeat_action_probability=0.1,\n",
    "        obs_type=\"rgb\",\n",
    "    )\n",
    "    start_state, info = env.reset()\n",
    "\n",
    "    # print(start_state.shape)\n",
    "    # print(info)\n",
    "\n",
    "    imgT = ImageTransformer()\n",
    "    imgT.transform(start_state)\n"
   ]
  },
  {
   "cell_type": "code",
   "execution_count": null,
   "metadata": {},
   "outputs": [],
   "source": []
  }
 ],
 "metadata": {
  "kernelspec": {
   "display_name": "Python 3",
   "language": "python",
   "name": "python3"
  },
  "language_info": {
   "codemirror_mode": {
    "name": "ipython",
    "version": 3
   },
   "file_extension": ".py",
   "mimetype": "text/x-python",
   "name": "python",
   "nbconvert_exporter": "python",
   "pygments_lexer": "ipython3",
   "version": "3.11.5"
  }
 },
 "nbformat": 4,
 "nbformat_minor": 2
}
